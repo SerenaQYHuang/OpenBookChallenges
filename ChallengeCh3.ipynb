{
 "cells": [
  {
   "cell_type": "code",
   "execution_count": 8,
   "metadata": {
    "collapsed": true
   },
   "outputs": [],
   "source": [
    "#Copyrights belong to @hupili\n"
   ]
  },
  {
   "cell_type": "code",
   "execution_count": 13,
   "metadata": {},
   "outputs": [
    {
     "name": "stdout",
     "output_type": "stream",
     "text": [
      "Distance from New York to Hong Kong is 13683.669985 KM.\n",
      "Distance from Vancouver to Hong Kong is 14351.716596 KM.\n",
      "Distance from Stockholm to Hong Kong is 8689.621471 KM.\n",
      "Distance from Buenos Aires to Hong Kong is 19507.605253 KM.\n",
      "Distance from Perth to Hong Kong is 6374.902846 KM.\n"
     ]
    }
   ],
   "source": [
    "import math\n",
    "CityLocations = [{ 'lat': 40.785091, 'lon': -73.968285, 'name': 'New York' },\n",
    "    { 'lat': -123.12073750000002, 'lon': 49.2827291, 'name': 'Vancouver' },\n",
    "    { 'lat': 59.336559, 'lon': 18.062660, 'name': 'Stockholm' },\n",
    "    { 'lat': -34.603722, 'lon': -58.381592, 'name': 'Buenos Aires' },\n",
    "    { 'lat': -31.953512, 'lon': 115.857048, 'name': 'Perth' }]\n",
    "def distance(lat1, lon1, lat2, lon2):\n",
    "    r = 6731.0094\n",
    "    lat1 = math.radians(lat1)\n",
    "    lon1 = math.radians(lon1)\n",
    "    lat2 = math.radians(lat2)\n",
    "    lon2 = math.radians(lon2)\n",
    "    londelta = lon2 - lon1\n",
    "    a = math.pow(math.cos(lat2) * math.sin(londelta), 2) + math.pow(math.cos(lat1) * math.sin(lat2) - math.sin(lat1) * math.cos(lat2) * math.cos(londelta), 2)\n",
    "    b = math.sin(lat1) * math.sin(lat2) + math.cos(lat1) * math.cos(lat2) * math.cos(londelta)\n",
    "    angle = math.atan2(math.sqrt(a), b)\n",
    "    return angle * r\n",
    "def distanceToHK(city):\n",
    "    hk = { 'lat': 22.286394, 'lon': 114.149139 }\n",
    "    di = distance(city['lat'], city['lon'], hk['lat'], hk['lon'])\n",
    "    print (\"Distance from %s to Hong Kong is %f KM.\" % (city['name'], di))\n",
    "if __name__ == '__main__':\n",
    "    for city in CityLocations:\n",
    "        distanceToHK(city)"
   ]
  },
  {
   "cell_type": "code",
   "execution_count": 11,
   "metadata": {},
   "outputs": [
    {
     "name": "stdout",
     "output_type": "stream",
     "text": [
      "Distance from New York to Hong Kong is 12951.815192 KM.\n",
      "Distance from Vancouver to Hong Kong is 13584.132126 KM.\n",
      "Distance from Stockholm to Hong Kong is 8224.867416 KM.\n",
      "Distance from Buenos Aires to Hong Kong is 18464.264219 KM.\n",
      "Distance from Perth to Hong Kong is 6033.948760 KM.\n"
     ]
    }
   ],
   "source": [
    "import math\n",
    "\n",
    "cities = [\n",
    "    { 'lat': 40.785091, 'lon': -73.968285, 'name': 'New York' },\n",
    "    { 'lat': -123.12073750000002, 'lon': 49.2827291, 'name': 'Vancouver' },\n",
    "    { 'lat': 59.336559, 'lon': 18.062660, 'name': 'Stockholm' },\n",
    "    { 'lat': -34.603722, 'lon': -58.381592, 'name': 'Buenos Aires' },\n",
    "    { 'lat': -31.953512, 'lon': 115.857048, 'name': 'Perth' }\n",
    "]\n",
    "\n",
    "def distance(lat1, lon1, lat2, lon2):\n",
    "    r = 6371.009\n",
    "\n",
    "    lat1 = math.radians(lat1)\n",
    "    lon1 = math.radians(lon1)\n",
    "    lat2 = math.radians(lat2)\n",
    "    lon2 = math.radians(lon2)\n",
    "    londelta = lon2 - lon1\n",
    "\n",
    "    a = math.pow(math.cos(lat2) * math.sin(londelta), 2) + math.pow(math.cos(lat1) * math.sin(lat2) - math.sin(lat1) * math.cos(lat2) * math.cos(londelta), 2)\n",
    "    b = math.sin(lat1) * math.sin(lat2) + math.cos(lat1) * math.cos(lat2) * math.cos(londelta)\n",
    "    angle = math.atan2(math.sqrt(a), b)\n",
    "\n",
    "    return angle * r\n",
    "\n",
    "def distanceToHK(city):\n",
    "    hk = { 'lat': 22.286394, 'lon': 114.149139 }\n",
    "    di = distance(city['lat'], city['lon'], hk['lat'], hk['lon'])\n",
    "    print (\"Distance from %s to Hong Kong is %f KM.\" % (city['name'], di))\n",
    "\n",
    "if __name__ == '__main__':\n",
    "    for city in cities:\n",
    "        distanceToHK(city)\n"
   ]
  }
 ],
 "metadata": {
  "kernelspec": {
   "display_name": "Python 3",
   "language": "python",
   "name": "python3"
  },
  "language_info": {
   "codemirror_mode": {
    "name": "ipython",
    "version": 3
   },
   "file_extension": ".py",
   "mimetype": "text/x-python",
   "name": "python",
   "nbconvert_exporter": "python",
   "pygments_lexer": "ipython3",
   "version": "3.6.3"
  }
 },
 "nbformat": 4,
 "nbformat_minor": 2
}
